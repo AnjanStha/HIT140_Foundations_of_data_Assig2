{
 "cells": [
  {
   "cell_type": "code",
   "execution_count": 2,
   "id": "12b305cb",
   "metadata": {},
   "outputs": [],
   "source": [
    "import pandas as pd\n",
    "import matplotlib.pyplot as plt  ## for plotting graph\n",
    "import numpy as np   ## for numerical operation\n",
    "import seaborn as sns ## for enhanced visualizations\n",
    "from scipy.stats import mannwhitneyu, chi2_contingency, norm, skew  # For statistical tests\n",
    "from statsmodels.stats.proportion import proportion_confint  # For proportion confidence intervals\n"
   ]
  },
  {
   "cell_type": "code",
   "execution_count": 3,
   "id": "1beddf7b",
   "metadata": {},
   "outputs": [],
   "source": [
    "# --- Data Loading ---\n",
    "# Load datasets: dataset1.csv (individual bat landings) and dataset2.csv (30-minute aggregated observations)\n",
    "dataset1 = pd.read_csv('dataset1.csv')\n",
    "dataset2 = pd.read_csv('dataset2.csv')"
   ]
  },
  {
   "cell_type": "code",
   "execution_count": 28,
   "id": "2500be1c",
   "metadata": {},
   "outputs": [
    {
     "name": "stdout",
     "output_type": "stream",
     "text": [
      "           start_time  bat_landing_to_food habit    rat_period_start  \\\n",
      "0 2017-12-30 18:37:00            16.000000   rat 2017-12-30 18:35:00   \n",
      "1 2017-12-30 19:51:00             0.074016  fast 2017-12-30 19:50:00   \n",
      "2 2017-12-30 19:51:00             4.000000  fast 2017-12-30 19:50:00   \n",
      "3 2017-12-30 19:52:00            10.000000   rat 2017-12-30 19:50:00   \n",
      "4 2017-12-30 19:54:00            15.000000   rat 2017-12-30 19:50:00   \n",
      "\n",
      "       rat_period_end  seconds_after_rat_arrival  risk  reward  month  \\\n",
      "0 2017-12-30 18:38:00                        108     1       0      0   \n",
      "1 2017-12-30 19:55:00                         17     0       1      0   \n",
      "2 2017-12-30 19:55:00                         41     0       1      0   \n",
      "3 2017-12-30 19:55:00                        111     1       0      0   \n",
      "4 2017-12-30 19:55:00                        194     1       0      0   \n",
      "\n",
      "        sunset_time  hours_after_sunset  season         time_bucket  \n",
      "0  30/12/2017 16:45            1.870833       0 2017-12-30 18:30:00  \n",
      "1  30/12/2017 16:45            3.100833       0 2017-12-30 19:30:00  \n",
      "2  30/12/2017 16:45            3.107500       0 2017-12-30 19:30:00  \n",
      "3  30/12/2017 16:45            3.126944       0 2017-12-30 19:30:00  \n",
      "4  30/12/2017 16:45            3.150000       0 2017-12-30 19:30:00  \n"
     ]
    }
   ],
   "source": [
    "print(dataset1.head())\n",
    "\n",
    "##show all column\n",
    "pd.set_option('display.max_columns', None)\n",
    "#df."
   ]
  },
  {
   "cell_type": "code",
   "execution_count": null,
   "id": "04550a4c",
   "metadata": {},
   "outputs": [],
   "source": []
  },
  {
   "cell_type": "code",
   "execution_count": 4,
   "id": "abb7fbc1",
   "metadata": {},
   "outputs": [
    {
     "name": "stdout",
     "output_type": "stream",
     "text": [
      "\n",
      " Dataset Inofromattion\n",
      "<class 'pandas.core.frame.DataFrame'>\n",
      "RangeIndex: 907 entries, 0 to 906\n",
      "Data columns (total 12 columns):\n",
      " #   Column                     Non-Null Count  Dtype  \n",
      "---  ------                     --------------  -----  \n",
      " 0   start_time                 907 non-null    object \n",
      " 1   bat_landing_to_food        907 non-null    float64\n",
      " 2   habit                      866 non-null    object \n",
      " 3   rat_period_start           907 non-null    object \n",
      " 4   rat_period_end             907 non-null    object \n",
      " 5   seconds_after_rat_arrival  907 non-null    int64  \n",
      " 6   risk                       907 non-null    int64  \n",
      " 7   reward                     907 non-null    int64  \n",
      " 8   month                      907 non-null    int64  \n",
      " 9   sunset_time                907 non-null    object \n",
      " 10  hours_after_sunset         907 non-null    float64\n",
      " 11  season                     907 non-null    int64  \n",
      "dtypes: float64(2), int64(5), object(5)\n",
      "memory usage: 85.2+ KB\n",
      "\n",
      " Statistiacal Summary \n",
      "       bat_landing_to_food  seconds_after_rat_arrival        risk      reward  \\\n",
      "count           907.000000                 907.000000  907.000000  907.000000   \n",
      "mean             11.713134                 282.877619    0.495039    0.533627   \n",
      "std              27.644410                 240.974918    0.500251    0.499143   \n",
      "min               0.010238                   0.000000    0.000000    0.000000   \n",
      "25%               1.000000                  89.500000    0.000000    0.000000   \n",
      "50%               4.000000                 206.000000    0.000000    1.000000   \n",
      "75%              11.500000                 446.500000    1.000000    1.000000   \n",
      "max             443.000000                 949.000000    1.000000    1.000000   \n",
      "\n",
      "            month  hours_after_sunset      season  \n",
      "count  907.000000          907.000000  907.000000  \n",
      "mean     3.800441            5.531863    0.833517  \n",
      "std      1.199190            2.414146    0.372719  \n",
      "min      0.000000           -0.261667    0.000000  \n",
      "25%      4.000000            3.779028    1.000000  \n",
      "50%      4.000000            5.622778    1.000000  \n",
      "75%      5.000000            7.402778    1.000000  \n",
      "max      5.000000           12.091944    1.000000  \n",
      "\n",
      "Missing Values:\n",
      "start_time                    0\n",
      "bat_landing_to_food           0\n",
      "habit                        41\n",
      "rat_period_start              0\n",
      "rat_period_end                0\n",
      "seconds_after_rat_arrival     0\n",
      "risk                          0\n",
      "reward                        0\n",
      "month                         0\n",
      "sunset_time                   0\n",
      "hours_after_sunset            0\n",
      "season                        0\n",
      "dtype: int64\n"
     ]
    }
   ],
   "source": [
    "### Data Exploration Step for dat set 1\n",
    "###############################\n",
    "## check for missing Value,\n",
    "##  Garbage/Invalid data \n",
    "## Distribution, Correlations, onte outlines\n",
    "\n",
    "print(\"\\n Dataset Inofromattion\")\n",
    "dataset1.info()   ## show data type and missing vlaue\n",
    "\n",
    "print(\"\\n Statistiacal Summary \")\n",
    "print(dataset1.describe())  ## provides Summary stats\n",
    "\n",
    "print(\"\\nMissing Values:\")\n",
    "print(dataset1.isnull().sum())\n",
    "\n"
   ]
  },
  {
   "cell_type": "code",
   "execution_count": null,
   "id": "97bd6968",
   "metadata": {},
   "outputs": [],
   "source": []
  },
  {
   "cell_type": "code",
   "execution_count": 5,
   "id": "50c83c5a",
   "metadata": {},
   "outputs": [
    {
     "name": "stdout",
     "output_type": "stream",
     "text": [
      "\n",
      " Dataset Inofromattion\n",
      "<class 'pandas.core.frame.DataFrame'>\n",
      "RangeIndex: 2123 entries, 0 to 2122\n",
      "Data columns (total 7 columns):\n",
      " #   Column              Non-Null Count  Dtype  \n",
      "---  ------              --------------  -----  \n",
      " 0   time                2123 non-null   object \n",
      " 1   month               2123 non-null   int64  \n",
      " 2   hours_after_sunset  2123 non-null   float64\n",
      " 3   bat_landing_number  2123 non-null   int64  \n",
      " 4   food_availability   2123 non-null   float64\n",
      " 5   rat_minutes         2123 non-null   float64\n",
      " 6   rat_arrival_number  2123 non-null   int64  \n",
      "dtypes: float64(3), int64(3), object(1)\n",
      "memory usage: 116.2+ KB\n",
      "\n",
      " Statistiacal Summary \n",
      "             month  hours_after_sunset  bat_landing_number  food_availability  \\\n",
      "count  2123.000000         2123.000000         2123.000000        2123.000000   \n",
      "mean      3.083844            5.265426           32.083373           2.445874   \n",
      "std       1.642261            4.076188           25.614431           1.218353   \n",
      "min       0.000000           -2.000000            0.000000           0.000000   \n",
      "25%       2.000000            2.000000           11.000000           1.962206   \n",
      "50%       4.000000            5.000000           27.000000           2.951877   \n",
      "75%       4.000000            8.500000           48.000000           3.105873   \n",
      "max       6.000000           13.500000          178.000000           4.000000   \n",
      "\n",
      "       rat_minutes  rat_arrival_number  \n",
      "count  2123.000000         2123.000000  \n",
      "mean      1.994442            0.444654  \n",
      "std       6.793397            1.019195  \n",
      "min       0.000000            0.000000  \n",
      "25%       0.000000            0.000000  \n",
      "50%       0.000000            0.000000  \n",
      "75%       0.158333            1.000000  \n",
      "max     120.000000           17.000000  \n",
      "\n",
      "Missing Values:\n",
      "time                  0\n",
      "month                 0\n",
      "hours_after_sunset    0\n",
      "bat_landing_number    0\n",
      "food_availability     0\n",
      "rat_minutes           0\n",
      "rat_arrival_number    0\n",
      "dtype: int64\n"
     ]
    }
   ],
   "source": [
    "### Data Exploration Step for dat set 2\n",
    "###############################\n",
    "## check for missing Value,\n",
    "##  Garbage/Invalid data \n",
    "## Distribution, Correlations, onte outlines\n",
    "\n",
    "print(\"\\n Dataset Inofromattion\")\n",
    "dataset2.info()   ## show data type and missing vlaue\n",
    "\n",
    "print(\"\\n Statistiacal Summary \")\n",
    "print(dataset2.describe())  ## provides Summary stats\n",
    "\n",
    "print(\"\\nMissing Values:\")\n",
    "print(dataset2.isnull().sum())\n"
   ]
  },
  {
   "cell_type": "code",
   "execution_count": 6,
   "id": "f1c7c3b6",
   "metadata": {},
   "outputs": [
    {
     "name": "stdout",
     "output_type": "stream",
     "text": [
      "<bound method IndexOpsMixin.tolist of Index(['start_time', 'bat_landing_to_food', 'habit', 'rat_period_start',\n",
      "       'rat_period_end', 'seconds_after_rat_arrival', 'risk', 'reward',\n",
      "       'month', 'sunset_time', 'hours_after_sunset', 'season'],\n",
      "      dtype='object')>\n"
     ]
    }
   ],
   "source": [
    "print(dataset1.columns.tolist)"
   ]
  },
  {
   "cell_type": "code",
   "execution_count": 7,
   "id": "586d2716",
   "metadata": {},
   "outputs": [
    {
     "name": "stdout",
     "output_type": "stream",
     "text": [
      "<bound method IndexOpsMixin.tolist of Index(['time', 'month', 'hours_after_sunset', 'bat_landing_number',\n",
      "       'food_availability', 'rat_minutes', 'rat_arrival_number'],\n",
      "      dtype='object')>\n"
     ]
    }
   ],
   "source": [
    "print(dataset2.columns.tolist)"
   ]
  },
  {
   "cell_type": "code",
   "execution_count": 8,
   "id": "a4bd22d6",
   "metadata": {},
   "outputs": [],
   "source": [
    "### 41 data are missing form habit column\n",
    "# 1. Handle Missing Values\n",
    "# Check and address missing values in quantitative and qualitative variables to ensure data completeness\n",
    "# Quantitative (dataset1): bat_landing_to_food, seconds_after_rat_arrival, hours_after_sunset\n",
    "for col in ['bat_landing_to_food', 'seconds_after_rat_arrival', 'hours_after_sunset']:\n",
    "    if dataset1[col].isnull().sum() > 0:\n",
    "        print(f\"Missing values in dataset1.{col}: {dataset1[col].isnull().sum()}\")\n",
    "        if col == 'bat_landing_to_food':\n",
    "            # Drop rows with missing bat_landing_to_food, as it's critical for vigilance analysis\n",
    "            dataset1 = dataset1.dropna(subset=[col])\n",
    "        elif col == 'seconds_after_rat_arrival':\n",
    "            # Missing seconds_after_rat_arrival indicates no rat was present; leave as is\n",
    "            pass\n",
    "        elif col == 'hours_after_sunset':\n",
    "            # Impute with median of same month to preserve temporal patterns\n",
    "            dataset1[col] = dataset1.groupby('month')[col].transform(lambda x: x.fillna(x.median()))\n",
    "\n"
   ]
  },
  {
   "cell_type": "code",
   "execution_count": 9,
   "id": "3e8fab73",
   "metadata": {},
   "outputs": [
    {
     "name": "stdout",
     "output_type": "stream",
     "text": [
      "start_time                    0\n",
      "bat_landing_to_food           0\n",
      "habit                        41\n",
      "rat_period_start              0\n",
      "rat_period_end                0\n",
      "seconds_after_rat_arrival     0\n",
      "risk                          0\n",
      "reward                        0\n",
      "month                         0\n",
      "sunset_time                   0\n",
      "hours_after_sunset            0\n",
      "season                        0\n",
      "dtype: int64\n"
     ]
    }
   ],
   "source": [
    "## checking for any messing  value data set 1\n",
    "print(dataset1.isna().sum())"
   ]
  },
  {
   "cell_type": "code",
   "execution_count": 10,
   "id": "210eee87",
   "metadata": {},
   "outputs": [],
   "source": [
    "# Quantitative (dataset2): bat_landing_number, food_availability, rat_minutes, rat_arrival_number, hours_after_sunset\n",
    "for col in ['bat_landing_number', 'food_availability', 'rat_minutes', 'rat_arrival_number', 'hours_after_sunset']:\n",
    "    if dataset2[col].isnull().sum() > 0:\n",
    "        print(f\"Missing values in dataset2.{col}: {dataset2[col].isnull().sum()}\")\n",
    "        if col == 'food_availability':\n",
    "            # Impute with median of same month to account for seasonal patterns\n",
    "            dataset2[col] = dataset2.groupby('month')[col].transform(lambda x: x.fillna(x.median()))\n",
    "        elif col in ['rat_minutes', 'rat_arrival_number']:\n",
    "            # Assume 0 for missing rat presence (no rats in that period)\n",
    "            dataset2[col] = dataset2[col].fillna(0)\n",
    "        else:\n",
    "            # Drop rows with missing bat_landing_number or hours_after_sunset\n",
    "            dataset2 = dataset2.dropna(subset=[col])"
   ]
  },
  {
   "cell_type": "code",
   "execution_count": 11,
   "id": "bb9846b9",
   "metadata": {},
   "outputs": [],
   "source": [
    "# 2. Correct Data Types\n",
    "# Ensure columns have appropriate types for analysis and merging\n",
    "try:\n",
    "    # Convert time columns to datetime for temporal alignment\n",
    "    dataset1['start_time'] = pd.to_datetime(dataset1['start_time'], format='%d/%m/%Y %H:%M', errors='coerce')\n",
    "    dataset2['time'] = pd.to_datetime(dataset2['time'], format='%d/%m/%Y %H:%M', errors='coerce')\n",
    "except Exception as e:\n",
    "    print(f\"Error converting datetime: {e}\")\n"
   ]
  },
  {
   "cell_type": "code",
   "execution_count": 12,
   "id": "f16c79a9",
   "metadata": {},
   "outputs": [],
   "source": [
    "# Convert numeric columns to float/int, handling invalid entries\n",
    "numeric_cols_d1 = ['bat_landing_to_food', 'seconds_after_rat_arrival', 'hours_after_sunset']\n",
    "numeric_cols_d2 = ['bat_landing_number', 'food_availability', 'rat_minutes', 'rat_arrival_number', 'hours_after_sunset']\n",
    "for col in numeric_cols_d1:\n",
    "    dataset1[col] = pd.to_numeric(dataset1[col], errors='coerce')\n",
    "for col in numeric_cols_d2:\n",
    "    dataset2[col] = pd.to_numeric(dataset2[col], errors='coerce')\n"
   ]
  },
  {
   "cell_type": "code",
   "execution_count": 13,
   "id": "320b4c99",
   "metadata": {},
   "outputs": [],
   "source": [
    "# Ensure binary (risk, reward) and categorical (habit) columns are correctly formatted\n",
    "dataset1['risk'] = dataset1['risk'].astype(int, errors='ignore')\n",
    "dataset1['reward'] = dataset1['reward'].astype(int, errors='ignore')\n",
    "dataset1['habit'] = dataset1['habit'].astype(str).str.lower()  # Standardize to lowercase for consistency"
   ]
  },
  {
   "cell_type": "code",
   "execution_count": 14,
   "id": "66a59bd0",
   "metadata": {},
   "outputs": [],
   "source": [
    "# 3. Handle Outliers\n",
    "# Use IQR method to cap outliers in quantitative variables to prevent skewing results\n",
    "def cap_outliers(df, col):\n",
    "    Q1 = df[col].quantile(0.25)\n",
    "    Q3 = df[col].quantile(0.75)\n",
    "    IQR = Q3 - Q1\n",
    "    lower_bound = Q1 - 1.5 * IQR\n",
    "    upper_bound = Q3 + 1.5 * IQR\n",
    "    df[col] = df[col].clip(lower=lower_bound, upper=upper_bound)\n",
    "    return df\n"
   ]
  },
  {
   "cell_type": "code",
   "execution_count": 15,
   "id": "a9ad0fc5",
   "metadata": {},
   "outputs": [],
   "source": [
    "# Apply outlier capping to quantitative columns (except seconds_after_rat_arrival, which is context-specific)\n",
    "for col in numeric_cols_d1:\n",
    "    if col != 'seconds_after_rat_arrival':\n",
    "        dataset1 = cap_outliers(dataset1, col)\n",
    "for col in numeric_cols_d2:\n",
    "    dataset2 = cap_outliers(dataset2, col)\n"
   ]
  },
  {
   "cell_type": "code",
   "execution_count": 16,
   "id": "8f7fead2",
   "metadata": {},
   "outputs": [],
   "source": [
    "# 4. Remove Duplicates\n",
    "# Remove duplicate rows to avoid double-counting events or periods\n",
    "dataset1 = dataset1.drop_duplicates()\n",
    "dataset2 = dataset2.drop_duplicates()"
   ]
  },
  {
   "cell_type": "code",
   "execution_count": 26,
   "id": "fb926139",
   "metadata": {},
   "outputs": [],
   "source": [
    "# 5. Validate Temporal Consistency\n",
    "# Ensure seconds_after_rat_arrival aligns with rat_period_start and rat_period_end\n",
    "dataset1['rat_period_start'] = pd.to_datetime(dataset1['rat_period_start'], errors='coerce')\n",
    "dataset1['rat_period_end'] = pd.to_datetime(dataset1['rat_period_end'], errors='coerce')\n",
    "invalid_time = dataset1[\n",
    "    (dataset1['seconds_after_rat_arrival'].notnull()) &\n",
    "    (~dataset1['start_time'].between(dataset1['rat_period_start'], dataset1['rat_period_end']))\n",
    "]\n",
    "if not invalid_time.empty:\n",
    "    print(f\"Found {len(invalid_time)} inconsistent time entries; dropping them.\")\n",
    "    dataset1 = dataset1.drop(invalid_time.index)\n"
   ]
  },
  {
   "cell_type": "code",
   "execution_count": 18,
   "id": "97132f02",
   "metadata": {},
   "outputs": [],
   "source": [
    "\n",
    "# 6. Standardize habit categories\n",
    "# Fix known inconsistencies in habit (e.g., typos or case variations)\n",
    "dataset1['habit'] = dataset1['habit'].replace({'Fast': 'fast', 'Pick': 'pick'})"
   ]
  },
  {
   "cell_type": "code",
   "execution_count": 19,
   "id": "8885ac69",
   "metadata": {},
   "outputs": [],
   "source": [
    "# 7. Merge Datasets\n",
    "# Align dataset1's start_time to dataset2's 30-minute time buckets for merging\n",
    "dataset1['time_bucket'] = dataset1['start_time'].dt.floor('30min')\n",
    "merged_data = pd.merge(dataset1, dataset2, left_on='time_bucket', right_on='time', how='left')"
   ]
  },
  {
   "cell_type": "code",
   "execution_count": 20,
   "id": "127c99b6",
   "metadata": {},
   "outputs": [
    {
     "name": "stdout",
     "output_type": "stream",
     "text": [
      "<class 'pandas.core.frame.DataFrame'>\n",
      "RangeIndex: 906 entries, 0 to 905\n",
      "Data columns (total 20 columns):\n",
      " #   Column                     Non-Null Count  Dtype         \n",
      "---  ------                     --------------  -----         \n",
      " 0   start_time                 906 non-null    datetime64[ns]\n",
      " 1   bat_landing_to_food        906 non-null    float64       \n",
      " 2   habit                      906 non-null    object        \n",
      " 3   rat_period_start           906 non-null    datetime64[ns]\n",
      " 4   rat_period_end             906 non-null    datetime64[ns]\n",
      " 5   seconds_after_rat_arrival  906 non-null    int64         \n",
      " 6   risk                       906 non-null    int64         \n",
      " 7   reward                     906 non-null    int64         \n",
      " 8   month_x                    906 non-null    int64         \n",
      " 9   sunset_time                906 non-null    object        \n",
      " 10  hours_after_sunset_x       906 non-null    float64       \n",
      " 11  season                     906 non-null    int64         \n",
      " 12  time_bucket                906 non-null    datetime64[ns]\n",
      " 13  time                       3 non-null      datetime64[ns]\n",
      " 14  month_y                    3 non-null      float64       \n",
      " 15  hours_after_sunset_y       3 non-null      float64       \n",
      " 16  bat_landing_number         3 non-null      float64       \n",
      " 17  food_availability          3 non-null      float64       \n",
      " 18  rat_minutes                3 non-null      float64       \n",
      " 19  rat_arrival_number         3 non-null      float64       \n",
      "dtypes: datetime64[ns](5), float64(8), int64(5), object(2)\n",
      "memory usage: 141.7+ KB\n"
     ]
    }
   ],
   "source": [
    "merged_data.info()"
   ]
  },
  {
   "cell_type": "code",
   "execution_count": 27,
   "id": "c50c1c34",
   "metadata": {},
   "outputs": [
    {
     "name": "stdout",
     "output_type": "stream",
     "text": [
      "Missing food_availability after merge: 903\n"
     ]
    },
    {
     "ename": "KeyError",
     "evalue": "'month'",
     "output_type": "error",
     "traceback": [
      "\u001b[1;31m---------------------------------------------------------------------------\u001b[0m",
      "\u001b[1;31mKeyError\u001b[0m                                  Traceback (most recent call last)",
      "Cell \u001b[1;32mIn[27], line 4\u001b[0m\n\u001b[0;32m      2\u001b[0m \u001b[38;5;28;01mif\u001b[39;00m merged_data[\u001b[38;5;124m'\u001b[39m\u001b[38;5;124mfood_availability\u001b[39m\u001b[38;5;124m'\u001b[39m]\u001b[38;5;241m.\u001b[39misnull()\u001b[38;5;241m.\u001b[39msum() \u001b[38;5;241m>\u001b[39m \u001b[38;5;241m0\u001b[39m:\n\u001b[0;32m      3\u001b[0m     \u001b[38;5;28mprint\u001b[39m(\u001b[38;5;124mf\u001b[39m\u001b[38;5;124m\"\u001b[39m\u001b[38;5;124mMissing food_availability after merge: \u001b[39m\u001b[38;5;132;01m{\u001b[39;00mmerged_data[\u001b[38;5;124m'\u001b[39m\u001b[38;5;124mfood_availability\u001b[39m\u001b[38;5;124m'\u001b[39m]\u001b[38;5;241m.\u001b[39misnull()\u001b[38;5;241m.\u001b[39msum()\u001b[38;5;132;01m}\u001b[39;00m\u001b[38;5;124m\"\u001b[39m)\n\u001b[1;32m----> 4\u001b[0m     merged_data[\u001b[38;5;124m'\u001b[39m\u001b[38;5;124mfood_availability\u001b[39m\u001b[38;5;124m'\u001b[39m] \u001b[38;5;241m=\u001b[39m \u001b[43mmerged_data\u001b[49m\u001b[38;5;241;43m.\u001b[39;49m\u001b[43mgroupby\u001b[49m\u001b[43m(\u001b[49m\u001b[38;5;124;43m'\u001b[39;49m\u001b[38;5;124;43mmonth\u001b[39;49m\u001b[38;5;124;43m'\u001b[39;49m\u001b[43m)\u001b[49m[\u001b[38;5;124m'\u001b[39m\u001b[38;5;124mfood_availability\u001b[39m\u001b[38;5;124m'\u001b[39m]\u001b[38;5;241m.\u001b[39mtransform(\u001b[38;5;28;01mlambda\u001b[39;00m x: x\u001b[38;5;241m.\u001b[39mfillna(x\u001b[38;5;241m.\u001b[39mmedian()))\n",
      "File \u001b[1;32mc:\\Users\\Dell_21\\anaconda3\\envs\\mechin\\lib\\site-packages\\pandas\\core\\frame.py:9190\u001b[0m, in \u001b[0;36mDataFrame.groupby\u001b[1;34m(self, by, axis, level, as_index, sort, group_keys, observed, dropna)\u001b[0m\n\u001b[0;32m   9187\u001b[0m \u001b[38;5;28;01mif\u001b[39;00m level \u001b[38;5;129;01mis\u001b[39;00m \u001b[38;5;28;01mNone\u001b[39;00m \u001b[38;5;129;01mand\u001b[39;00m by \u001b[38;5;129;01mis\u001b[39;00m \u001b[38;5;28;01mNone\u001b[39;00m:\n\u001b[0;32m   9188\u001b[0m     \u001b[38;5;28;01mraise\u001b[39;00m \u001b[38;5;167;01mTypeError\u001b[39;00m(\u001b[38;5;124m\"\u001b[39m\u001b[38;5;124mYou have to supply one of \u001b[39m\u001b[38;5;124m'\u001b[39m\u001b[38;5;124mby\u001b[39m\u001b[38;5;124m'\u001b[39m\u001b[38;5;124m and \u001b[39m\u001b[38;5;124m'\u001b[39m\u001b[38;5;124mlevel\u001b[39m\u001b[38;5;124m'\u001b[39m\u001b[38;5;124m\"\u001b[39m)\n\u001b[1;32m-> 9190\u001b[0m \u001b[38;5;28;01mreturn\u001b[39;00m \u001b[43mDataFrameGroupBy\u001b[49m\u001b[43m(\u001b[49m\n\u001b[0;32m   9191\u001b[0m \u001b[43m    \u001b[49m\u001b[43mobj\u001b[49m\u001b[38;5;241;43m=\u001b[39;49m\u001b[38;5;28;43mself\u001b[39;49m\u001b[43m,\u001b[49m\n\u001b[0;32m   9192\u001b[0m \u001b[43m    \u001b[49m\u001b[43mkeys\u001b[49m\u001b[38;5;241;43m=\u001b[39;49m\u001b[43mby\u001b[49m\u001b[43m,\u001b[49m\n\u001b[0;32m   9193\u001b[0m \u001b[43m    \u001b[49m\u001b[43maxis\u001b[49m\u001b[38;5;241;43m=\u001b[39;49m\u001b[43maxis\u001b[49m\u001b[43m,\u001b[49m\n\u001b[0;32m   9194\u001b[0m \u001b[43m    \u001b[49m\u001b[43mlevel\u001b[49m\u001b[38;5;241;43m=\u001b[39;49m\u001b[43mlevel\u001b[49m\u001b[43m,\u001b[49m\n\u001b[0;32m   9195\u001b[0m \u001b[43m    \u001b[49m\u001b[43mas_index\u001b[49m\u001b[38;5;241;43m=\u001b[39;49m\u001b[43mas_index\u001b[49m\u001b[43m,\u001b[49m\n\u001b[0;32m   9196\u001b[0m \u001b[43m    \u001b[49m\u001b[43msort\u001b[49m\u001b[38;5;241;43m=\u001b[39;49m\u001b[43msort\u001b[49m\u001b[43m,\u001b[49m\n\u001b[0;32m   9197\u001b[0m \u001b[43m    \u001b[49m\u001b[43mgroup_keys\u001b[49m\u001b[38;5;241;43m=\u001b[39;49m\u001b[43mgroup_keys\u001b[49m\u001b[43m,\u001b[49m\n\u001b[0;32m   9198\u001b[0m \u001b[43m    \u001b[49m\u001b[43mobserved\u001b[49m\u001b[38;5;241;43m=\u001b[39;49m\u001b[43mobserved\u001b[49m\u001b[43m,\u001b[49m\n\u001b[0;32m   9199\u001b[0m \u001b[43m    \u001b[49m\u001b[43mdropna\u001b[49m\u001b[38;5;241;43m=\u001b[39;49m\u001b[43mdropna\u001b[49m\u001b[43m,\u001b[49m\n\u001b[0;32m   9200\u001b[0m \u001b[43m\u001b[49m\u001b[43m)\u001b[49m\n",
      "File \u001b[1;32mc:\\Users\\Dell_21\\anaconda3\\envs\\mechin\\lib\\site-packages\\pandas\\core\\groupby\\groupby.py:1330\u001b[0m, in \u001b[0;36mGroupBy.__init__\u001b[1;34m(self, obj, keys, axis, level, grouper, exclusions, selection, as_index, sort, group_keys, observed, dropna)\u001b[0m\n\u001b[0;32m   1327\u001b[0m \u001b[38;5;28mself\u001b[39m\u001b[38;5;241m.\u001b[39mdropna \u001b[38;5;241m=\u001b[39m dropna\n\u001b[0;32m   1329\u001b[0m \u001b[38;5;28;01mif\u001b[39;00m grouper \u001b[38;5;129;01mis\u001b[39;00m \u001b[38;5;28;01mNone\u001b[39;00m:\n\u001b[1;32m-> 1330\u001b[0m     grouper, exclusions, obj \u001b[38;5;241m=\u001b[39m \u001b[43mget_grouper\u001b[49m\u001b[43m(\u001b[49m\n\u001b[0;32m   1331\u001b[0m \u001b[43m        \u001b[49m\u001b[43mobj\u001b[49m\u001b[43m,\u001b[49m\n\u001b[0;32m   1332\u001b[0m \u001b[43m        \u001b[49m\u001b[43mkeys\u001b[49m\u001b[43m,\u001b[49m\n\u001b[0;32m   1333\u001b[0m \u001b[43m        \u001b[49m\u001b[43maxis\u001b[49m\u001b[38;5;241;43m=\u001b[39;49m\u001b[43maxis\u001b[49m\u001b[43m,\u001b[49m\n\u001b[0;32m   1334\u001b[0m \u001b[43m        \u001b[49m\u001b[43mlevel\u001b[49m\u001b[38;5;241;43m=\u001b[39;49m\u001b[43mlevel\u001b[49m\u001b[43m,\u001b[49m\n\u001b[0;32m   1335\u001b[0m \u001b[43m        \u001b[49m\u001b[43msort\u001b[49m\u001b[38;5;241;43m=\u001b[39;49m\u001b[43msort\u001b[49m\u001b[43m,\u001b[49m\n\u001b[0;32m   1336\u001b[0m \u001b[43m        \u001b[49m\u001b[43mobserved\u001b[49m\u001b[38;5;241;43m=\u001b[39;49m\u001b[38;5;28;43;01mFalse\u001b[39;49;00m\u001b[43m \u001b[49m\u001b[38;5;28;43;01mif\u001b[39;49;00m\u001b[43m \u001b[49m\u001b[43mobserved\u001b[49m\u001b[43m \u001b[49m\u001b[38;5;129;43;01mis\u001b[39;49;00m\u001b[43m \u001b[49m\u001b[43mlib\u001b[49m\u001b[38;5;241;43m.\u001b[39;49m\u001b[43mno_default\u001b[49m\u001b[43m \u001b[49m\u001b[38;5;28;43;01melse\u001b[39;49;00m\u001b[43m \u001b[49m\u001b[43mobserved\u001b[49m\u001b[43m,\u001b[49m\n\u001b[0;32m   1337\u001b[0m \u001b[43m        \u001b[49m\u001b[43mdropna\u001b[49m\u001b[38;5;241;43m=\u001b[39;49m\u001b[38;5;28;43mself\u001b[39;49m\u001b[38;5;241;43m.\u001b[39;49m\u001b[43mdropna\u001b[49m\u001b[43m,\u001b[49m\n\u001b[0;32m   1338\u001b[0m \u001b[43m    \u001b[49m\u001b[43m)\u001b[49m\n\u001b[0;32m   1340\u001b[0m \u001b[38;5;28;01mif\u001b[39;00m observed \u001b[38;5;129;01mis\u001b[39;00m lib\u001b[38;5;241m.\u001b[39mno_default:\n\u001b[0;32m   1341\u001b[0m     \u001b[38;5;28;01mif\u001b[39;00m \u001b[38;5;28many\u001b[39m(ping\u001b[38;5;241m.\u001b[39m_passed_categorical \u001b[38;5;28;01mfor\u001b[39;00m ping \u001b[38;5;129;01min\u001b[39;00m grouper\u001b[38;5;241m.\u001b[39mgroupings):\n",
      "File \u001b[1;32mc:\\Users\\Dell_21\\anaconda3\\envs\\mechin\\lib\\site-packages\\pandas\\core\\groupby\\grouper.py:1043\u001b[0m, in \u001b[0;36mget_grouper\u001b[1;34m(obj, key, axis, level, sort, observed, validate, dropna)\u001b[0m\n\u001b[0;32m   1041\u001b[0m         in_axis, level, gpr \u001b[38;5;241m=\u001b[39m \u001b[38;5;28;01mFalse\u001b[39;00m, gpr, \u001b[38;5;28;01mNone\u001b[39;00m\n\u001b[0;32m   1042\u001b[0m     \u001b[38;5;28;01melse\u001b[39;00m:\n\u001b[1;32m-> 1043\u001b[0m         \u001b[38;5;28;01mraise\u001b[39;00m \u001b[38;5;167;01mKeyError\u001b[39;00m(gpr)\n\u001b[0;32m   1044\u001b[0m \u001b[38;5;28;01melif\u001b[39;00m \u001b[38;5;28misinstance\u001b[39m(gpr, Grouper) \u001b[38;5;129;01mand\u001b[39;00m gpr\u001b[38;5;241m.\u001b[39mkey \u001b[38;5;129;01mis\u001b[39;00m \u001b[38;5;129;01mnot\u001b[39;00m \u001b[38;5;28;01mNone\u001b[39;00m:\n\u001b[0;32m   1045\u001b[0m     \u001b[38;5;66;03m# Add key to exclusions\u001b[39;00m\n\u001b[0;32m   1046\u001b[0m     exclusions\u001b[38;5;241m.\u001b[39madd(gpr\u001b[38;5;241m.\u001b[39mkey)\n",
      "\u001b[1;31mKeyError\u001b[0m: 'month'"
     ]
    }
   ],
   "source": [
    "# Handle unmatched rows in merged_data (e.g., missing food_availability)\n",
    "if merged_data['food_availability'].isnull().sum() > 0:\n",
    "    print(f\"Missing food_availability after merge: {merged_data['food_availability'].isnull().sum()}\")\n",
    "    merged_data['food_availability'] = merged_data.groupby('month')['food_availability'].transform(lambda x: x.fillna(x.median()))"
   ]
  },
  {
   "cell_type": "code",
   "execution_count": null,
   "id": "14fd5349",
   "metadata": {},
   "outputs": [],
   "source": [
    "# 8. Feature Engineering\n",
    "# Create a binary rat_present column to simplify analysis (1 if rat was present, 0 otherwise)\n",
    "merged_data['rat_present'] = merged_data['seconds_after_rat_arrival'].notnull() | (merged_data['rat_minutes'] > 0)"
   ]
  },
  {
   "cell_type": "code",
   "execution_count": null,
   "id": "46e19e4e",
   "metadata": {},
   "outputs": [],
   "source": [
    "# Define rat-present and rat-absent groups for analysis\n",
    "rat_present = merged_data[merged_data['rat_present']]\n",
    "rat_absent = merged_data[~merged_data['rat_present']]\n"
   ]
  },
  {
   "cell_type": "code",
   "execution_count": null,
   "id": "475f3129",
   "metadata": {},
   "outputs": [],
   "source": [
    "# --- Descriptive Analysis: Quantitative Variables ---\n",
    "# Define quantitative variables to analyze from both datasets\n",
    "quant_vars = {\n",
    "    'dataset1': ['bat_landing_to_food', 'seconds_after_rat_arrival', 'hours_after_sunset'],\n",
    "    'dataset2': ['bat_landing_number', 'food_availability', 'rat_minutes', 'rat_arrival_number']\n",
    "   }\n"
   ]
  },
  {
   "cell_type": "code",
   "execution_count": null,
   "id": "88d987e2",
   "metadata": {},
   "outputs": [],
   "source": [
    " ##Loop through datasets and variables to compute descriptive statistics\n",
    "for dataset_name, vars_list in quant_vars.items():\n",
    "    data = merged_data if dataset_name == 'dataset1' else dataset2\n",
    "    print(f\"\\nDescriptive Analysis for {dataset_name}:\")\n",
    "    for var in vars_list:\n",
    "        # Use rat_present for seconds_after_rat_arrival, as it's only relevant when rats are present\n",
    "        if var == 'seconds_after_rat_arrival':\n",
    "            values = rat_present[var].dropna()\n",
    "        else:\n",
    "            values = data[var].dropna()\n",
    "        \n",
    "        # Compute measures of center: mean, median, mode\n",
    "        mean_val = values.mean()\n",
    "        median_val = values.median()\n",
    "        mode_val = values.mode()[0] if not values.mode().empty else np.nan\n",
    "        \n",
    "        # Compute dispersion: std, range, variance, IQR\n",
    "        std_val = values.std()\n",
    "        range_val = values.max() - values.min()\n",
    "        variance_val = values.var()\n",
    "        iqr_val = np.percentile(values, 75) - np.percentile(values, 25)\n",
    "        \n",
    "        # Compute shape: skewness to determine if symmetric, right-skewed, or left-skewed\n",
    "        skewness = skew(values, nan_policy='omit')\n",
    "        shape = 'Symmetric' if abs(skewness) < 0.5 else 'Right-skewed' if skewness > 0.5 else 'Left-skewed'\n",
    "        \n",
    "        # Print statistics for the variable\n",
    "        print(f\"\\n{var}:\")\n",
    "        print(f\"  Mean: {mean_val:.2f}, Median: {median_val:.2f}, Mode: {mode_val:.2f}\")\n",
    "        print(f\"  Std Dev: {std_val:.2f}, Range: {range_val:.2f}, Variance: {variance_val:.2f}, IQR: {iqr_val:.2f}\")\n",
    "        print(f\"  Skewness: {skewness:.2f} ({shape})\")\n",
    "        \n",
    "        # Visualize distribution with histogram (with KDE) and boxplot\n",
    "        plt.figure(figsize=(10, 4))\n",
    "        plt.subplot(1, 2, 1)\n",
    "        sns.histplot(values, kde=True)\n",
    "        plt.title(f'Histogram of {var}')\n",
    "        plt.subplot(1, 2, 2)\n",
    "        sns.boxplot(y=values)\n",
    "        plt.title(f'Boxplot of {var}')\n",
    "        plt.tight_layout()\n",
    "        plt.show()\n",
    "\n",
    "\n"
   ]
  },
  {
   "cell_type": "code",
   "execution_count": 2,
   "id": "23f35fae",
   "metadata": {},
   "outputs": [],
   "source": [
    "# --- Descriptive Analysis: Qualitative Variables ---\n",
    "# Analyze categorical/binary variables: risk, reward, habit\n",
    "qual_vars = ['risk', 'reward', 'habit']\n",
    "for var in qual_vars:\n",
    "    print(f\"\\nFrequency Table for {var}:\")\n",
    "    # Compute frequency table for each category, including NaNs if any\n",
    "    freq_table = merged_data[var].value_counts(dropna=False)\n",
    "    print(freq_table)\n",
    "    \n",
    "    # Bar chart to show counts of each category\n",
    "    plt.figure(figsize=(8, 4))\n",
    "    sns.countplot(x=var, data=merged_data)\n",
    "    plt.title(f'Bar Chart of {var}')\n",
    "    plt.show()\n",
    "    \n",
    "    # Pie chart to show proportion of each category\n",
    "    plt.figure(figsize=(6, 6))\n",
    "    freq_table.plot.pie(autopct='%1.1f%%')\n",
    "    plt.title(f'Pie Chart of {var}')\n",
    "    plt.ylabel('')\n",
    "    plt.show()"
   ]
  },
  {
   "cell_type": "code",
   "execution_count": 3,
   "id": "be8c6e39",
   "metadata": {},
   "outputs": [],
   "source": [
    "# --- Inferential Statistics ---\n",
    "# Define function to compute 95% confidence interval for mean\n",
    "def compute_ci_mean(data, confidence=0.95):\n",
    "    mean = data.mean()\n",
    "    std = data.std()\n",
    "    n = len(data)\n",
    "    se = std / np.sqrt(n)  # Standard error\n",
    "    ci = norm.ppf(1 - (1 - confidence) / 2) * se  # Z-value for 95% CI\n",
    "    return mean, (mean - ci, mean + ci)"
   ]
  },
  {
   "cell_type": "code",
   "execution_count": null,
   "id": "d05f39a1",
   "metadata": {},
   "outputs": [],
   "source": [
    "# Compute 95% CI for bat_landing_to_food in rat-present and rat-absent groups\n",
    "mean_present, ci_present = compute_ci_mean(rat_present['bat_landing_to_food'].dropna())\n",
    "mean_absent, ci_absent = compute_ci_mean(rat_absent['bat_landing_to_food'].dropna())\n",
    "print(f\"\\n95% CI for bat_landing_to_food (Rat Present): {mean_present:.2f}, {ci_present}\")\n",
    "print(f\"95% CI for bat_landing_to_food (Rat Absent): {mean_absent:.2f}, {ci_absent}\")\n"
   ]
  },
  {
   "cell_type": "code",
   "execution_count": null,
   "id": "fad9daf7",
   "metadata": {},
   "outputs": [],
   "source": [
    "# Compute 95% CI for proportion of reward=1\n",
    "count_present = rat_present['reward'].sum()\n",
    "n_present = len(rat_present)\n",
    "count_absent = rat_absent['reward'].sum()\n",
    "n_absent = len(rat_absent)\n",
    "ci_reward_present = proportion_confint(count_present, n_present, alpha=0.05, method='normal')\n",
    "ci_reward_absent = proportion_confint(count_absent, n_absent, alpha=0.05, method='normal')\n",
    "print(f\"95% CI for Reward Proportion (Rat Present): {count_present/n_present:.2f}, {ci_reward_present}\")\n",
    "print(f\"95% CI for Reward Proportion (Rat Absent): {count_absent/n_absent:.2f}, {ci_reward_absent}\")"
   ]
  },
  {
   "cell_type": "code",
   "execution_count": null,
   "id": "3d356676",
   "metadata": {},
   "outputs": [],
   "source": [
    "# Hypothesis Tests\n",
    "# H1: Bats take longer to approach food when rats are present (bat_landing_to_food higher)\n",
    "# Use Mann-Whitney U test (non-parametric) due to likely skewed time data\n",
    "u_stat, p_val = mannwhitneyu(rat_present['bat_landing_to_food'].dropna(), \n",
    "                             rat_absent['bat_landing_to_food'].dropna(), alternative='two-sided')\n",
    "print(f\"\\nMann-Whitney U Test for bat_landing_to_food (p-value): {p_val:.4f}\")\n"
   ]
  },
  {
   "cell_type": "code",
   "execution_count": null,
   "id": "a5e527d7",
   "metadata": {},
   "outputs": [],
   "source": [
    "# H2: Bats are less likely to gain rewards when rats are present\n",
    "# Use chi-square test to compare reward proportions\n",
    "contingency_table = pd.crosstab(merged_data['rat_present'], merged_data['reward'])\n",
    "chi2, p_chi, _, _ = chi2_contingency(contingency_table)\n",
    "print(f\"Chi-square Test for reward (p-value): {p_chi:.4f}\")"
   ]
  },
  {
   "cell_type": "code",
   "execution_count": null,
   "id": "8da76272",
   "metadata": {},
   "outputs": [],
   "source": [
    "# H3: Bat landings decrease with increased rat presence\n",
    "# Use Spearman correlation (non-parametric) to test relationship between bat_landing_number and rat_minutes\n",
    "corr, p_corr = dataset2[['bat_landing_number', 'rat_minutes']].corr(method='spearman').iloc[0, 1], \\\n",
    "               dataset2[['bat_landing_number', 'rat_minutes']].corr(method='spearman', min_periods=1).iloc[0, 1]\n",
    "print(f\"Spearman Correlation (bat_landing_number vs rat_minutes): {corr:.4f}, p-value: {p_corr:.4f}\")"
   ]
  },
  {
   "cell_type": "code",
   "execution_count": null,
   "id": "b7a391f4",
   "metadata": {},
   "outputs": [],
   "source": [
    "# --- Scatter Plots ---\n",
    "# Scatter plot: seconds_after_rat_arrival vs bat_landing_to_food\n",
    "# Tests if vigilance (time to food) increases with recency of rat arrival\n",
    "plt.figure(figsize=(8, 6))\n",
    "sns.scatterplot(x='seconds_after_rat_arrival', y='bat_landing_to_food', data=rat_present)\n",
    "plt.title('bat_landing_to_food vs seconds_after_rat_arrival')\n",
    "plt.xlabel('Seconds After Rat Arrival')\n",
    "plt.ylabel('Bat Landing to Food (seconds)')\n",
    "plt.show()"
   ]
  },
  {
   "cell_type": "code",
   "execution_count": null,
   "id": "d8102193",
   "metadata": {},
   "outputs": [],
   "source": [
    "# --- Scatter Plots ---\n",
    "# Scatter plot: seconds_after_rat_arrival vs bat_landing_to_food\n",
    "# Tests if vigilance (time to food) increases with recency of rat arrival\n",
    "plt.figure(figsize=(8, 6))\n",
    "sns.scatterplot(x='seconds_after_rat_arrival', y='bat_landing_to_food', data=rat_present)\n",
    "plt.title('bat_landing_to_food vs seconds_after_rat_arrival')\n",
    "plt.xlabel('Seconds After Rat Arrival')\n",
    "plt.ylabel('Bat Landing to Food (seconds)')\n",
    "plt.show()"
   ]
  },
  {
   "cell_type": "code",
   "execution_count": null,
   "id": "b705a7c1",
   "metadata": {},
   "outputs": [],
   "source": [
    "# Scatter plot: food_availability vs bat_landing_number\n",
    "# Tests if food levels influence bat foraging, potentially moderated by rats\n",
    "plt.figure(figsize=(8, 6))\n",
    "sns.scatterplot(x='food_availability', y='bat_landing_number', data=dataset2)\n",
    "plt.title('bat_landing_number vs food_availability')\n",
    "plt.xlabel('Food Availability')\n",
    "plt.ylabel('Bat Landing Number')\n",
    "plt.show()"
   ]
  },
  {
   "cell_type": "code",
   "execution_count": null,
   "id": "c898f339",
   "metadata": {},
   "outputs": [],
   "source": [
    "# --- Conclusion: Hypothesis Testing and Interpretation ---\n",
    "# Hypotheses:\n",
    "# H1: Bats take longer to approach food when rats are present (higher bat_landing_to_food)\n",
    "# H2: Bats are less likely to gain rewards when rats are present (lower reward proportion)\n",
    "# H3: Bat landings decrease with increased rat presence (negative correlation with rat_minutes)\n",
    "print(\"\\nConclusion for Investigation A: Do bats perceive rats as potential predators?\\n\")\n",
    "\n",
    "# H1: Interpret Mann-Whitney U test for bat_landing_to_food\n",
    "if p_val < 0.05:\n",
    "    print(\"H1: Supported. Bats take significantly longer to approach food when rats are present (p = {:.4f}).\".format(p_val))\n",
    "    print(\"  Mean bat_landing_to_food (Rat Present): {:.2f}, (Rat Absent): {:.2f}\".format(mean_present, mean_absent))\n",
    "    print(\"  This suggests increased vigilance, consistent with perceiving rats as predators.\")\n",
    "else:\n",
    "    print(\"H1: Not supported. No significant difference in bat_landing_to_food between rat-present and rat-absent conditions (p = {:.4f}).\".format(p_val))\n",
    "    print(\"  Mean bat_landing_to_food (Rat Present): {:.2f}, (Rat Absent): {:.2f}\".format(mean_present, mean_absent))\n",
    "    print(\"  Bats may not exhibit increased vigilance due to rats.\")\n",
    "\n",
    "# H2: Interpret chi-square test for reward\n",
    "if p_chi < 0.05:\n",
    "    print(\"H2: Supported. Bats are significantly less likely to gain rewards when rats are present (p = {:.4f}).\".format(p_chi))\n",
    "    print(\"  Reward proportion (Rat Present): {:.2f}, (Rat Absent): {:.2f}\".format(count_present/n_present, count_absent/n_absent))\n",
    "    print(\"  This suggests rats may be perceived as a threat, reducing foraging success.\")\n",
    "else:\n",
    "    print(\"H2: Not supported. No significant difference in reward proportion between rat-present and rat-absent conditions (p = {:.4f}).\".format(p_chi))\n",
    "    print(\"  Reward proportion (Rat Present): {:.2f}, (Rat Absent): {:.2f}\".format(count_present/n_present, count_absent/n_absent))\n",
    "    print(\"  Rats may primarily act as competitors rather than predators.\")\n",
    "\n",
    "# H3: Interpret Spearman correlation for bat_landing_number vs rat_minutes\n",
    "if p_corr < 0.05 and corr < 0:\n",
    "    print(\"H3: Supported. Significant negative correlation between bat_landing_number and rat_minutes (corr = {:.4f}, p = {:.4f}).\".format(corr, p_corr))\n",
    "    print(\"  Increased rat presence is associated with fewer bat landings, suggesting avoidance behavior.\")\n",
    "else:\n",
    "    print(\"H3: Not supported. No significant negative correlation between bat_landing_number and rat_minutes (corr = {:.4f}, p = {:.4f}).\".format(corr, p_corr))\n",
    "    print(\"  Bat foraging activity may not be strongly affected by rat presence.\")\n"
   ]
  },
  {
   "cell_type": "code",
   "execution_count": null,
   "id": "414ef13d",
   "metadata": {},
   "outputs": [],
   "source": [
    "# Overall interpretation\n",
    "print(\"\\nOverall Interpretation:\")\n",
    "if p_val < 0.05 or (p_chi < 0.05 and count_present/n_present < count_absent/n_absent) or (p_corr < 0.05 and corr < 0):\n",
    "    print(\"The data supports the hypothesis that bats perceive rats as potential predators, not just competitors.\")\n",
    "    print(\"Evidence includes:\")\n",
    "    if p_val < 0.05:\n",
    "        print(\"- Increased time to approach food (bat_landing_to_food) when rats are present, indicating higher vigilance.\")\n",
    "    if p_chi < 0.05 and count_present/n_present < count_absent/n_absent:\n",
    "        print(\"- Lower reward rates in rat-present conditions, suggesting fear or competition reduces foraging success.\")\n",
    "    if p_corr < 0.05 and corr < 0:\n",
    "        print(\"- Fewer bat landings when rats are present longer, indicating avoidance behavior.\")\n",
    "else:\n",
    "    print(\"The data does not strongly support the hypothesis that bats perceive rats as predators.\")\n",
    "    print(\"Bats may primarily view rats as competitors for food, as evidenced by:\")\n",
    "    print(\"- No significant increase in bat_landing_to_food (p = {:.4f}).\".format(p_val))\n",
    "    print(\"- Similar reward rates (p = {:.4f}).\".format(p_chi))\n",
    "    print(\"- No strong negative correlation between bat landings and rat presence (p = {:.4f}).\".format(p_corr))\n",
    "print(\"Further analysis (e.g., logistic regression on risk-taking) or additional data (e.g., direct predation events) could clarify the extent of predator perception.\")"
   ]
  }
 ],
 "metadata": {
  "kernelspec": {
   "display_name": "mechin",
   "language": "python",
   "name": "python3"
  },
  "language_info": {
   "codemirror_mode": {
    "name": "ipython",
    "version": 3
   },
   "file_extension": ".py",
   "mimetype": "text/x-python",
   "name": "python",
   "nbconvert_exporter": "python",
   "pygments_lexer": "ipython3",
   "version": "3.10.18"
  }
 },
 "nbformat": 4,
 "nbformat_minor": 5
}
