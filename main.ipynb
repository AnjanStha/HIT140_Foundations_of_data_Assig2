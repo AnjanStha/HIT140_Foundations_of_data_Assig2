{
 "cells": [
  {
   "cell_type": "code",
   "execution_count": 6,
   "id": "12b305cb",
   "metadata": {},
   "outputs": [],
   "source": [
    "import pandas as pd\n",
    "import matplotlib.pyplot as plt  ## for plotting graph\n",
    "import numpy as np   ## for numerical operation\n",
    "import seaborn as sns ## for enhanced visualizations\n"
   ]
  },
  {
   "cell_type": "code",
   "execution_count": 7,
   "id": "1beddf7b",
   "metadata": {},
   "outputs": [
    {
     "data": {
      "text/plain": [
       "((907, 12), (2123, 7))"
      ]
     },
     "execution_count": 7,
     "metadata": {},
     "output_type": "execute_result"
    }
   ],
   "source": [
    "df1 = pd.read_csv('C:/Users/Dell_21/Desktop/CDU_Sem2/foundation_data/HIT140_Foundations_of_data_Assig2/dataset1.csv', header= 0)\n",
    "df2 = pd.read_csv('C:/Users/Dell_21/Desktop/CDU_Sem2/foundation_data/HIT140_Foundations_of_data_Assig2/dataset2.csv', header= 0)\n",
    "df1.shape, df2.shape"
   ]
  },
  {
   "cell_type": "code",
   "execution_count": null,
   "id": "abb7fbc1",
   "metadata": {},
   "outputs": [
    {
     "name": "stdout",
     "output_type": "stream",
     "text": [
      "\n",
      " Dataset Inofromattion\n",
      "<class 'pandas.core.frame.DataFrame'>\n",
      "RangeIndex: 907 entries, 0 to 906\n",
      "Data columns (total 12 columns):\n",
      " #   Column                     Non-Null Count  Dtype  \n",
      "---  ------                     --------------  -----  \n",
      " 0   start_time                 907 non-null    object \n",
      " 1   bat_landing_to_food        907 non-null    float64\n",
      " 2   habit                      866 non-null    object \n",
      " 3   rat_period_start           907 non-null    object \n",
      " 4   rat_period_end             907 non-null    object \n",
      " 5   seconds_after_rat_arrival  907 non-null    int64  \n",
      " 6   risk                       907 non-null    int64  \n",
      " 7   reward                     907 non-null    int64  \n",
      " 8   month                      907 non-null    int64  \n",
      " 9   sunset_time                907 non-null    object \n",
      " 10  hours_after_sunset         907 non-null    float64\n",
      " 11  season                     907 non-null    int64  \n",
      "dtypes: float64(2), int64(5), object(5)\n",
      "memory usage: 85.2+ KB\n",
      "\n",
      " Statistiacal Summary \n",
      "       bat_landing_to_food  seconds_after_rat_arrival        risk      reward  \\\n",
      "count           907.000000                 907.000000  907.000000  907.000000   \n",
      "mean             11.713134                 282.877619    0.495039    0.533627   \n",
      "std              27.644410                 240.974918    0.500251    0.499143   \n",
      "min               0.010238                   0.000000    0.000000    0.000000   \n",
      "25%               1.000000                  89.500000    0.000000    0.000000   \n",
      "50%               4.000000                 206.000000    0.000000    1.000000   \n",
      "75%              11.500000                 446.500000    1.000000    1.000000   \n",
      "max             443.000000                 949.000000    1.000000    1.000000   \n",
      "\n",
      "            month  hours_after_sunset      season  \n",
      "count  907.000000          907.000000  907.000000  \n",
      "mean     3.800441            5.531863    0.833517  \n",
      "std      1.199190            2.414146    0.372719  \n",
      "min      0.000000           -0.261667    0.000000  \n",
      "25%      4.000000            3.779028    1.000000  \n",
      "50%      4.000000            5.622778    1.000000  \n",
      "75%      5.000000            7.402778    1.000000  \n",
      "max      5.000000           12.091944    1.000000  \n",
      "\n",
      "Missing Values:\n",
      "start_time                    0\n",
      "bat_landing_to_food           0\n",
      "habit                        41\n",
      "rat_period_start              0\n",
      "rat_period_end                0\n",
      "seconds_after_rat_arrival     0\n",
      "risk                          0\n",
      "reward                        0\n",
      "month                         0\n",
      "sunset_time                   0\n",
      "hours_after_sunset            0\n",
      "season                        0\n",
      "dtype: int64\n"
     ]
    }
   ],
   "source": [
    "### Data Exploration Step for dat set 1\n",
    "###############################\n",
    "## check for missing Value,\n",
    "##  Garbage/Invalid data \n",
    "## Distribution, Correlations, onte outlines\n",
    "\n",
    "print(\"\\n Dataset Inofromattion\")\n",
    "df1.info()   ## show data type and missing vlaue\n",
    "\n",
    "print(\"\\n Statistiacal Summary \")\n",
    "print(df1.describe())  ## provides Summary stats\n",
    "\n",
    "print(\"\\nMissing Values:\")\n",
    "print(df1.isnull().sum())\n",
    "\n"
   ]
  },
  {
   "cell_type": "code",
   "execution_count": null,
   "id": "a4bd22d6",
   "metadata": {},
   "outputs": [],
   "source": []
  },
  {
   "cell_type": "code",
   "execution_count": 11,
   "id": "f39462e3",
   "metadata": {},
   "outputs": [
    {
     "name": "stdout",
     "output_type": "stream",
     "text": [
      "\n",
      " Dataset Inofromattion\n",
      "<class 'pandas.core.frame.DataFrame'>\n",
      "RangeIndex: 2123 entries, 0 to 2122\n",
      "Data columns (total 7 columns):\n",
      " #   Column              Non-Null Count  Dtype  \n",
      "---  ------              --------------  -----  \n",
      " 0   time                2123 non-null   object \n",
      " 1   month               2123 non-null   int64  \n",
      " 2   hours_after_sunset  2123 non-null   float64\n",
      " 3   bat_landing_number  2123 non-null   int64  \n",
      " 4   food_availability   2123 non-null   float64\n",
      " 5   rat_minutes         2123 non-null   float64\n",
      " 6   rat_arrival_number  2123 non-null   int64  \n",
      "dtypes: float64(3), int64(3), object(1)\n",
      "memory usage: 116.2+ KB\n",
      "\n",
      " Statistiacal Summary \n",
      "             month  hours_after_sunset  bat_landing_number  food_availability  \\\n",
      "count  2123.000000         2123.000000         2123.000000        2123.000000   \n",
      "mean      3.083844            5.265426           32.083373           2.445874   \n",
      "std       1.642261            4.076188           25.614431           1.218353   \n",
      "min       0.000000           -2.000000            0.000000           0.000000   \n",
      "25%       2.000000            2.000000           11.000000           1.962206   \n",
      "50%       4.000000            5.000000           27.000000           2.951877   \n",
      "75%       4.000000            8.500000           48.000000           3.105873   \n",
      "max       6.000000           13.500000          178.000000           4.000000   \n",
      "\n",
      "       rat_minutes  rat_arrival_number  \n",
      "count  2123.000000         2123.000000  \n",
      "mean      1.994442            0.444654  \n",
      "std       6.793397            1.019195  \n",
      "min       0.000000            0.000000  \n",
      "25%       0.000000            0.000000  \n",
      "50%       0.000000            0.000000  \n",
      "75%       0.158333            1.000000  \n",
      "max     120.000000           17.000000  \n",
      "\n",
      "Missing Values:\n",
      "time                  0\n",
      "month                 0\n",
      "hours_after_sunset    0\n",
      "bat_landing_number    0\n",
      "food_availability     0\n",
      "rat_minutes           0\n",
      "rat_arrival_number    0\n",
      "dtype: int64\n"
     ]
    }
   ],
   "source": [
    "### Data Exploration Step for dat set 2\n",
    "###############################\n",
    "## check for missing Value,\n",
    "##  Garbage/Invalid data \n",
    "## Distribution, Correlations, onte outlines\n",
    "\n",
    "print(\"\\n Dataset Inofromattion\")\n",
    "df2.info()   ## show data type and missing vlaue\n",
    "\n",
    "print(\"\\n Statistiacal Summary \")\n",
    "print(df2.describe())  ## provides Summary stats\n",
    "\n",
    "print(\"\\nMissing Values:\")\n",
    "print(df2.isnull().sum())"
   ]
  },
  {
   "cell_type": "code",
   "execution_count": 12,
   "id": "3e8fab73",
   "metadata": {},
   "outputs": [
    {
     "name": "stdout",
     "output_type": "stream",
     "text": [
      "start_time                    0\n",
      "bat_landing_to_food           0\n",
      "habit                        41\n",
      "rat_period_start              0\n",
      "rat_period_end                0\n",
      "seconds_after_rat_arrival     0\n",
      "risk                          0\n",
      "reward                        0\n",
      "month                         0\n",
      "sunset_time                   0\n",
      "hours_after_sunset            0\n",
      "season                        0\n",
      "dtype: int64\n"
     ]
    }
   ],
   "source": [
    "## checking for any messing  value data set 1\n",
    "print(df1.isna().sum())"
   ]
  },
  {
   "cell_type": "code",
   "execution_count": 13,
   "id": "46292376",
   "metadata": {},
   "outputs": [
    {
     "name": "stdout",
     "output_type": "stream",
     "text": [
      "time                  0\n",
      "month                 0\n",
      "hours_after_sunset    0\n",
      "bat_landing_number    0\n",
      "food_availability     0\n",
      "rat_minutes           0\n",
      "rat_arrival_number    0\n",
      "dtype: int64\n"
     ]
    }
   ],
   "source": [
    "## checking for any messing  value data set 1\n",
    "print(df2.isna().sum())"
   ]
  }
 ],
 "metadata": {
  "kernelspec": {
   "display_name": "mechin",
   "language": "python",
   "name": "python3"
  },
  "language_info": {
   "codemirror_mode": {
    "name": "ipython",
    "version": 3
   },
   "file_extension": ".py",
   "mimetype": "text/x-python",
   "name": "python",
   "nbconvert_exporter": "python",
   "pygments_lexer": "ipython3",
   "version": "3.10.18"
  }
 },
 "nbformat": 4,
 "nbformat_minor": 5
}
