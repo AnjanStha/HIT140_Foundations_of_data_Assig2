{
 "cells": [
  {
   "cell_type": "code",
   "execution_count": 3,
   "id": "12b305cb",
   "metadata": {},
   "outputs": [],
   "source": [
    "import pandas as pd"
   ]
  },
  {
   "cell_type": "code",
   "execution_count": 8,
   "id": "1beddf7b",
   "metadata": {},
   "outputs": [
    {
     "data": {
      "text/plain": [
       "((907, 12), (2123, 7))"
      ]
     },
     "execution_count": 8,
     "metadata": {},
     "output_type": "execute_result"
    }
   ],
   "source": [
    "df1 = pd.read_csv('C:/Users/Dell_21/Desktop/CDU_Sem2/foundation_data/HIT140_Foundations_of_data_Assig2/dataset1.csv', header= 0)\n",
    "df2 = pd.read_csv('C:/Users/Dell_21/Desktop/CDU_Sem2/foundation_data/HIT140_Foundations_of_data_Assig2/dataset2.csv', header= 0)\n",
    "df1.shape, df2.shape"
   ]
  }
 ],
 "metadata": {
  "kernelspec": {
   "display_name": "mechin",
   "language": "python",
   "name": "python3"
  },
  "language_info": {
   "codemirror_mode": {
    "name": "ipython",
    "version": 3
   },
   "file_extension": ".py",
   "mimetype": "text/x-python",
   "name": "python",
   "nbconvert_exporter": "python",
   "pygments_lexer": "ipython3",
   "version": "3.10.18"
  }
 },
 "nbformat": 4,
 "nbformat_minor": 5
}
